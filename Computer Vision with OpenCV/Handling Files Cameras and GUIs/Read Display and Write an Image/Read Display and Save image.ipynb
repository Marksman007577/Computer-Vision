{
 "cells": [
  {
   "cell_type": "markdown",
   "id": "52b8a06b-52a4-443a-9b41-f5038b52a1d6",
   "metadata": {},
   "source": [
    "Import the libraries"
   ]
  },
  {
   "cell_type": "code",
   "execution_count": 1,
   "id": "3badd863",
   "metadata": {},
   "outputs": [],
   "source": [
    "import cv2\n",
    "import sys"
   ]
  },
  {
   "cell_type": "code",
   "execution_count": 3,
   "id": "77ded5e2-9436-4a7d-994b-6904178242e5",
   "metadata": {},
   "outputs": [],
   "source": [
    "img = cv2.imread('car.jpg')"
   ]
  },
  {
   "cell_type": "code",
   "execution_count": 5,
   "id": "0bbefbcf-3f21-40c7-8cde-7570c3c1fcd7",
   "metadata": {},
   "outputs": [
    {
     "data": {
      "text/plain": [
       "(286, 468, 3)"
      ]
     },
     "execution_count": 5,
     "metadata": {},
     "output_type": "execute_result"
    }
   ],
   "source": [
    "img.shape"
   ]
  },
  {
   "cell_type": "code",
   "execution_count": 3,
   "id": "90a81d0a-8360-4d84-9159-125d78007d32",
   "metadata": {},
   "outputs": [],
   "source": [
    "if img is None:\n",
    "    sys.exit(\"Could not read image\")"
   ]
  },
  {
   "cell_type": "code",
   "execution_count": 14,
   "id": "a8360718-a10e-432b-bb61-d71b9a621594",
   "metadata": {},
   "outputs": [
    {
     "data": {
      "text/plain": [
       "13"
      ]
     },
     "execution_count": 14,
     "metadata": {},
     "output_type": "execute_result"
    }
   ],
   "source": [
    "cv2.imshow(\"Image Window\", img)\n",
    "cv2.waitKey()"
   ]
  },
  {
   "cell_type": "code",
   "execution_count": 5,
   "id": "4db8b4df-630c-4976-a60d-38bbc003145e",
   "metadata": {},
   "outputs": [
    {
     "data": {
      "text/plain": [
       "True"
      ]
     },
     "execution_count": 5,
     "metadata": {},
     "output_type": "execute_result"
    }
   ],
   "source": [
    "#if k == ord(\"s\"):\n",
    "cv2.imwrite(\"car_image.png\", img)"
   ]
  }
 ],
 "metadata": {
  "kernelspec": {
   "display_name": "Python 3 (ipykernel)",
   "language": "python",
   "name": "python3"
  },
  "language_info": {
   "codemirror_mode": {
    "name": "ipython",
    "version": 3
   },
   "file_extension": ".py",
   "mimetype": "text/x-python",
   "name": "python",
   "nbconvert_exporter": "python",
   "pygments_lexer": "ipython3",
   "version": "3.10.13"
  }
 },
 "nbformat": 4,
 "nbformat_minor": 5
}
