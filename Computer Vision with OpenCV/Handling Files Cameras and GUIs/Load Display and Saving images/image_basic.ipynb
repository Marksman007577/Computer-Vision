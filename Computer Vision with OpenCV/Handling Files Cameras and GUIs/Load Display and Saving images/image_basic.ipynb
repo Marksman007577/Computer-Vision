{
 "cells": [
  {
   "cell_type": "code",
   "execution_count": null,
   "id": "fae1913b-f982-45d3-84bf-5cae77ca117a",
   "metadata": {},
   "outputs": [],
   "source": [
    "import cv2\n",
    "import sys\n",
    "\n",
    "\n",
    "def read_image(*args):\n",
    "    img = cv2.imread(*args)\n",
    "    if img is None:\n",
    "        sys.exit(\"Could not find the Image\")\n",
    "    else:\n",
    "        return img\n",
    "\n",
    "\n",
    "def show_image(image):\n",
    "    cv2.imshow(\"Display Window\", image)\n",
    "    cv2.waitKey(0)\n",
    "\n",
    "\n",
    "def save_image(image_name_ext, image_data):\n",
    "    cv2.imwrite(image_name_ext, image_data)"
   ]
  },
  {
   "cell_type": "code",
   "execution_count": null,
   "id": "7800885d-172f-46a8-825b-4b130f7a3564",
   "metadata": {},
   "outputs": [],
   "source": [
    "img1 = read_image('PIC.png')\n",
    "show_image(img1)\n",
    "save_image(image_name_ext='new.jpg', image_data=img1)"
   ]
  }
 ],
 "metadata": {
  "kernelspec": {
   "display_name": "Python 3 (ipykernel)",
   "language": "python",
   "name": "python3"
  },
  "language_info": {
   "codemirror_mode": {
    "name": "ipython",
    "version": 3
   },
   "file_extension": ".py",
   "mimetype": "text/x-python",
   "name": "python",
   "nbconvert_exporter": "python",
   "pygments_lexer": "ipython3",
   "version": "3.10.13"
  }
 },
 "nbformat": 4,
 "nbformat_minor": 5
}
