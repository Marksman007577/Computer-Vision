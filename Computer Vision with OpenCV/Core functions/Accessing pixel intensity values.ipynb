{
 "cells": [
  {
   "cell_type": "code",
   "execution_count": 6,
   "id": "3635083d-0f5a-4700-882c-fe236a7b6d73",
   "metadata": {},
   "outputs": [],
   "source": [
    "import cv2\n",
    "import sys"
   ]
  },
  {
   "cell_type": "code",
   "execution_count": 9,
   "id": "3ed71ced-f88b-4085-92a2-2b8f7c3b226c",
   "metadata": {},
   "outputs": [],
   "source": [
    "img = cv2.imread('WindowsLogo.jpg')"
   ]
  },
  {
   "cell_type": "code",
   "execution_count": 10,
   "id": "1f02cbca-75c2-4795-a449-10d9a81eed9a",
   "metadata": {},
   "outputs": [
    {
     "data": {
      "text/plain": [
       "(248, 200, 3)"
      ]
     },
     "execution_count": 10,
     "metadata": {},
     "output_type": "execute_result"
    }
   ],
   "source": [
    "img.shape"
   ]
  },
  {
   "cell_type": "code",
   "execution_count": 12,
   "id": "a224adc9-6485-4982-9874-e77070de6b0e",
   "metadata": {},
   "outputs": [],
   "source": [
    "_blue = img[240, 189, 0]\n",
    "_green = img[240, 189, 1]\n",
    "_red = img[240, 189, 2]"
   ]
  },
  {
   "cell_type": "code",
   "execution_count": 13,
   "id": "9475055f-61fe-4d12-9f3d-cc48cb1de514",
   "metadata": {},
   "outputs": [
    {
     "data": {
      "text/plain": [
       "(59, 61, 71)"
      ]
     },
     "execution_count": 13,
     "metadata": {},
     "output_type": "execute_result"
    }
   ],
   "source": [
    "_blue, _green, _red"
   ]
  },
  {
   "cell_type": "code",
   "execution_count": null,
   "id": "8624a6bb-d7ec-4502-b800-d65af54957a1",
   "metadata": {},
   "outputs": [],
   "source": []
  }
 ],
 "metadata": {
  "kernelspec": {
   "display_name": "Python 3 (ipykernel)",
   "language": "python",
   "name": "python3"
  },
  "language_info": {
   "codemirror_mode": {
    "name": "ipython",
    "version": 3
   },
   "file_extension": ".py",
   "mimetype": "text/x-python",
   "name": "python",
   "nbconvert_exporter": "python",
   "pygments_lexer": "ipython3",
   "version": "3.10.13"
  }
 },
 "nbformat": 4,
 "nbformat_minor": 5
}
