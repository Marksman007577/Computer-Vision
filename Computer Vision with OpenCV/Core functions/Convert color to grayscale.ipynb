{
 "cells": [
  {
   "cell_type": "code",
   "execution_count": 1,
   "id": "e6408997-626c-425f-9d99-dffa16b175bb",
   "metadata": {},
   "outputs": [],
   "source": [
    "import cv2\n",
    "import numpy as np\n",
    "import sys"
   ]
  },
  {
   "cell_type": "code",
   "execution_count": 2,
   "id": "f1ec8a67-7e0d-4a73-8c72-70d24eacc60f",
   "metadata": {},
   "outputs": [],
   "source": [
    "img = cv2.imread('WindowsLogo.jpg')"
   ]
  },
  {
   "cell_type": "code",
   "execution_count": 3,
   "id": "6ca03131-25b5-4994-a7b6-4508ff444281",
   "metadata": {},
   "outputs": [],
   "source": [
    "# resized the image to a quarter of its original siz\n",
    "#img = cv2.resize(img, (0, 0), None, .25, .25)"
   ]
  },
  {
   "cell_type": "code",
   "execution_count": 4,
   "id": "a79a0545-0184-41bb-8766-297cc59034e4",
   "metadata": {},
   "outputs": [],
   "source": [
    "img_gray = cv2.cvtColor(img, cv2.COLOR_RGB2GRAY)"
   ]
  },
  {
   "cell_type": "code",
   "execution_count": 5,
   "id": "62a73a8c-9bef-4ff3-b80b-cbb50257d201",
   "metadata": {},
   "outputs": [],
   "source": [
    "# Make the grey scale image have three channels\n",
    "img_gray_3_channel = cv2.cvtColor(img_gray, cv2.COLOR_GRAY2BGR)"
   ]
  },
  {
   "cell_type": "code",
   "execution_count": 6,
   "id": "a951b897-cf33-4b93-b9ba-634e0d605ff8",
   "metadata": {},
   "outputs": [],
   "source": [
    "numpy_vertical = np.vstack((img, img_gray_3_channel))\n",
    "numpy_horizontal = np.hstack((img, img_gray_3_channel))"
   ]
  },
  {
   "cell_type": "code",
   "execution_count": 7,
   "id": "eac00cc8-21e2-4a56-869c-379e3bdabe7b",
   "metadata": {},
   "outputs": [],
   "source": [
    "numpy_vertical_concat = np.concatenate((img, img_gray_3_channel), axis=0)\n",
    "numpy_horizontal_concat = np.concatenate((img, img_gray_3_channel), axis=1)"
   ]
  },
  {
   "cell_type": "code",
   "execution_count": 8,
   "id": "91fe1c5d-1746-46ac-a636-dba09aa631af",
   "metadata": {},
   "outputs": [
    {
     "data": {
      "text/plain": [
       "13"
      ]
     },
     "execution_count": 8,
     "metadata": {},
     "output_type": "execute_result"
    }
   ],
   "source": [
    "cv2.imshow('Main', img)\n",
    "cv2.waitKey()"
   ]
  },
  {
   "cell_type": "code",
   "execution_count": 10,
   "id": "cd95d7c1-7efb-4878-a4c4-682f3eb4acf0",
   "metadata": {},
   "outputs": [
    {
     "data": {
      "text/plain": [
       "13"
      ]
     },
     "execution_count": 10,
     "metadata": {},
     "output_type": "execute_result"
    }
   ],
   "source": [
    "cv2.imshow('Image Vertical', numpy_vertical)\n",
    "cv2.waitKey()"
   ]
  },
  {
   "cell_type": "code",
   "execution_count": null,
   "id": "d5c4ead9-6567-449c-bf28-8800b6bd12f6",
   "metadata": {},
   "outputs": [],
   "source": [
    "cv2.imshow('Image Horizontal', numpy_horizontal)\n",
    "cv2.waitKey()"
   ]
  },
  {
   "cell_type": "code",
   "execution_count": null,
   "id": "2e59f267-0ba2-43c8-b245-ae15c4cc172a",
   "metadata": {},
   "outputs": [],
   "source": [
    "cv2.imshow('Image Vertical Concat', numpy_vertical_concat)\n",
    "cv2.waitKey()"
   ]
  },
  {
   "cell_type": "code",
   "execution_count": null,
   "id": "815aa546-bed7-48a8-910e-86429d657615",
   "metadata": {},
   "outputs": [],
   "source": [
    "cv2.imshow('Image Horizontal Concat', numpy_horizontal_concat)\n",
    "cv2.waitKey()"
   ]
  }
 ],
 "metadata": {
  "kernelspec": {
   "display_name": "Python 3 (ipykernel)",
   "language": "python",
   "name": "python3"
  },
  "language_info": {
   "codemirror_mode": {
    "name": "ipython",
    "version": 3
   },
   "file_extension": ".py",
   "mimetype": "text/x-python",
   "name": "python",
   "nbconvert_exporter": "python",
   "pygments_lexer": "ipython3",
   "version": "3.10.13"
  }
 },
 "nbformat": 4,
 "nbformat_minor": 5
}
