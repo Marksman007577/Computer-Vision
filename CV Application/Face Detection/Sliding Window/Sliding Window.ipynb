{
 "cells": [
  {
   "cell_type": "code",
   "execution_count": 11,
   "id": "a2fea0ea-0305-41be-984f-b06458de35b2",
   "metadata": {},
   "outputs": [],
   "source": [
    "import imutils\n",
    "import cv2"
   ]
  },
  {
   "cell_type": "code",
   "execution_count": 12,
   "id": "b39f1ae1-67dd-43e6-8574-3f5566ac2f99",
   "metadata": {},
   "outputs": [],
   "source": [
    "def pyramid(image, scale=1.5, minSize=(30, 30)):\n",
    "\t# yield the original image\n",
    "\tyield image\n",
    "\t# keep looping over the pyramid\n",
    "\twhile True:\n",
    "\t\t# compute the new dimensions of the image and resize it\n",
    "\t\tw = int(image.shape[1] / scale)\n",
    "\t\timage = imutils.resize(image, width=w)\n",
    "\t\t# if the resized image does not meet the supplied minimum\n",
    "\t\t# size, then stop constructing the pyramid\n",
    "\t\tif image.shape[0] < minSize[1] or image.shape[1] < minSize[0]:\n",
    "\t\t\tbreak\n",
    "\t\t# yield the next image in the pyramid\n",
    "\t\tyield image"
   ]
  },
  {
   "cell_type": "code",
   "execution_count": 13,
   "id": "bf34dc9a-9ba2-4ee2-81d8-f38764814946",
   "metadata": {},
   "outputs": [],
   "source": [
    "def sliding_window(image, stepSize, windowSize):\n",
    "\t# slide a window across the image\n",
    "\tfor y in range(0, image.shape[0], stepSize):\n",
    "\t\tfor x in range(0, image.shape[1], stepSize):\n",
    "\t\t\t# yield the current window\n",
    "\t\t\tyield (x, y, image[y:y + windowSize[1], x:x + windowSize[0]])"
   ]
  },
  {
   "cell_type": "code",
   "execution_count": 14,
   "id": "4fc1b843-cec4-4d5a-888a-a49f5044b893",
   "metadata": {},
   "outputs": [],
   "source": [
    "import time"
   ]
  },
  {
   "cell_type": "code",
   "execution_count": 15,
   "id": "6eeba019-d569-4d2a-a65d-a6cc9556bfb4",
   "metadata": {},
   "outputs": [],
   "source": [
    "# load the image and define the window width and height\n",
    "image = cv2.imread('people1.jpg')\n",
    "(winW, winH) = (128, 128)"
   ]
  },
  {
   "cell_type": "code",
   "execution_count": null,
   "id": "355075db-a5cf-4aec-8cbb-4ddeaebda005",
   "metadata": {},
   "outputs": [],
   "source": [
    "# loop over the image pyramid\n",
    "for resized in pyramid(image):\n",
    "\t# loop over the sliding window for each layer of the pyramid\n",
    "\tfor (x, y, window) in sliding_window(resized, stepSize=32, windowSize=(winW, winH)):\n",
    "\t\t# if the window does not meet our desired window size, ignore it\n",
    "\t\tif window.shape[0] != winH or window.shape[1] != winW:\n",
    "\t\t\tcontinue\n",
    "\t\t# THIS IS WHERE YOU WOULD PROCESS YOUR WINDOW, SUCH AS APPLYING A\n",
    "\t\t# MACHINE LEARNING CLASSIFIER TO CLASSIFY THE CONTENTS OF THE\n",
    "\t\t# WINDOW\n",
    "\t\t# since we do not have a classifier, we'll just draw the window\n",
    "\t\tclone = resized.copy()\n",
    "\t\tcv2.rectangle(clone, (x, y), (x + winW, y + winH), (0, 255, 0), 2)\n",
    "\t\tcv2.imshow(\"Window\", clone)\n",
    "\t\tcv2.waitKey(1)\n",
    "\t\ttime.sleep(0.025)"
   ]
  },
  {
   "cell_type": "code",
   "execution_count": null,
   "id": "e64b5569-a977-41bf-a6c1-88148542ebca",
   "metadata": {},
   "outputs": [],
   "source": []
  }
 ],
 "metadata": {
  "kernelspec": {
   "display_name": "Python 3 (ipykernel)",
   "language": "python",
   "name": "python3"
  },
  "language_info": {
   "codemirror_mode": {
    "name": "ipython",
    "version": 3
   },
   "file_extension": ".py",
   "mimetype": "text/x-python",
   "name": "python",
   "nbconvert_exporter": "python",
   "pygments_lexer": "ipython3",
   "version": "3.10.13"
  }
 },
 "nbformat": 4,
 "nbformat_minor": 5
}
