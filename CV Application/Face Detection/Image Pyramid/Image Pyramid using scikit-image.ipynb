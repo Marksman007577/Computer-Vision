{
 "cells": [
  {
   "cell_type": "code",
   "execution_count": 1,
   "id": "382e0d88-655d-4b12-a54f-6d6369ffaff6",
   "metadata": {},
   "outputs": [],
   "source": [
    "from skimage.transform import pyramid_gaussian\n",
    "import cv2"
   ]
  },
  {
   "cell_type": "code",
   "execution_count": 2,
   "id": "c8044c03-d6e1-4838-bcf7-fde4d949c0e4",
   "metadata": {},
   "outputs": [],
   "source": [
    "# load the image\n",
    "image = cv2.imread('people1.jpg')"
   ]
  },
  {
   "cell_type": "code",
   "execution_count": null,
   "id": "f6127f71-d085-4111-a283-f255b8438abb",
   "metadata": {},
   "outputs": [],
   "source": [
    "for (i, resized) in enumerate(pyramid_gaussian(image, downscale=1.5)):\n",
    "    if resized.shape[0] < 20 or resized.shape[1] < 20:\n",
    "        break\n",
    "    cv2.imshow(\"Layer {}\".format(i+1), resized)\n",
    "    cv2.waitKey(0)"
   ]
  },
  {
   "cell_type": "code",
   "execution_count": null,
   "id": "a6e35601-b514-4587-bf5b-05564d64e29e",
   "metadata": {},
   "outputs": [],
   "source": []
  }
 ],
 "metadata": {
  "kernelspec": {
   "display_name": "Python 3 (ipykernel)",
   "language": "python",
   "name": "python3"
  },
  "language_info": {
   "codemirror_mode": {
    "name": "ipython",
    "version": 3
   },
   "file_extension": ".py",
   "mimetype": "text/x-python",
   "name": "python",
   "nbconvert_exporter": "python",
   "pygments_lexer": "ipython3",
   "version": "3.10.13"
  }
 },
 "nbformat": 4,
 "nbformat_minor": 5
}
