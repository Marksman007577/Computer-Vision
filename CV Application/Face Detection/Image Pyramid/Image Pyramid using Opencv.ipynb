{
 "cells": [
  {
   "cell_type": "code",
   "execution_count": 6,
   "id": "b6f21c86-f0e1-43ec-8f24-4d337f604660",
   "metadata": {},
   "outputs": [],
   "source": [
    "import imutils\n",
    "import cv2"
   ]
  },
  {
   "cell_type": "code",
   "execution_count": 7,
   "id": "8ec1bb5d-40f8-4a2b-822c-9093f09f8246",
   "metadata": {},
   "outputs": [],
   "source": [
    "def image_pyramid(image_path):\n",
    "    image_dump = image_path\n",
    "    img = cv2.imread(image_dump)\n",
    "    scale = 1.5\n",
    "    min_size = (30,30)\n",
    "\n",
    "    yield img\n",
    "\n",
    "    # keep looing  over pyramid\n",
    "    while True:\n",
    "        # compute the new dimension and resize it\n",
    "        w = int(img.shape[1]/scale)\n",
    "        img = imutils.resize(img, width=w)\n",
    "        # if resized image does not meet specified minimum, size and stop pyramid construction\n",
    "        if img.shape[0] < min_size[1] or img.shape[1] < min_size[0]:\n",
    "            break\n",
    "        # yield the next image in the pyramid\n",
    "        yield img"
   ]
  },
  {
   "cell_type": "code",
   "execution_count": 8,
   "id": "273dc3fe-6d4e-4e40-a12d-d51ac63b06a7",
   "metadata": {},
   "outputs": [],
   "source": [
    "file = 'people1.jpg'"
   ]
  },
  {
   "cell_type": "code",
   "execution_count": 9,
   "id": "626f8cf1-27d0-4203-adb5-b6f344cf53af",
   "metadata": {},
   "outputs": [],
   "source": [
    "for (i, resized) in enumerate(image_pyramid(file)):\n",
    "    if resized.shape[0] < 30 or resized.shape[1] < 30:\n",
    "        break\n",
    "    cv2.imshow(\"Layer{}\".format(i+1), resized)\n",
    "    cv2.waitKey(0)"
   ]
  },
  {
   "cell_type": "code",
   "execution_count": null,
   "id": "e64f9c90-d70b-4644-9808-d0eb1f0285f1",
   "metadata": {},
   "outputs": [],
   "source": []
  }
 ],
 "metadata": {
  "kernelspec": {
   "display_name": "Python 3 (ipykernel)",
   "language": "python",
   "name": "python3"
  },
  "language_info": {
   "codemirror_mode": {
    "name": "ipython",
    "version": 3
   },
   "file_extension": ".py",
   "mimetype": "text/x-python",
   "name": "python",
   "nbconvert_exporter": "python",
   "pygments_lexer": "ipython3",
   "version": "3.10.13"
  }
 },
 "nbformat": 4,
 "nbformat_minor": 5
}
